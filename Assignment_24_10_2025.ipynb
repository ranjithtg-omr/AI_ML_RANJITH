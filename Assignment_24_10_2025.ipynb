{
  "nbformat": 4,
  "nbformat_minor": 0,
  "metadata": {
    "colab": {
      "provenance": [],
      "authorship_tag": "ABX9TyNYiMbvSNkr7257o0BIWkT3",
      "include_colab_link": true
    },
    "kernelspec": {
      "name": "python3",
      "display_name": "Python 3"
    },
    "language_info": {
      "name": "python"
    }
  },
  "cells": [
    {
      "cell_type": "markdown",
      "metadata": {
        "id": "view-in-github",
        "colab_type": "text"
      },
      "source": [
        "<a href=\"https://colab.research.google.com/github/ranjithtg-omr/AI_ML_RANJITH/blob/main/Assignment_24_10_2025.ipynb\" target=\"_parent\"><img src=\"https://colab.research.google.com/assets/colab-badge.svg\" alt=\"Open In Colab\"/></a>"
      ]
    },
    {
      "cell_type": "markdown",
      "source": [
        "ASSIGNMENT ---Python Practice Problems – (Variables,\n",
        "Operators, Strings, Lists, Tuples)"
      ],
      "metadata": {
        "id": "8ibaHJPwans3"
      }
    },
    {
      "cell_type": "markdown",
      "source": [
        "1.A financial analyst stores monthly revenues in a list: [120000, 135000, 128000, 142000, 150000]. Find the difference between the highest and lowest revenue without using loops."
      ],
      "metadata": {
        "id": "cNk3aARSXrP8"
      }
    },
    {
      "cell_type": "code",
      "source": [
        "l1=[120000, 135000, 128000, 142000, 150000]\n",
        "l2=max(l1)-min(l1)\n",
        "l2"
      ],
      "metadata": {
        "colab": {
          "base_uri": "https://localhost:8080/"
        },
        "id": "cqWlxCLYXuSp",
        "outputId": "61e5176c-4a40-4885-b8c7-c668e84a1aa0"
      },
      "execution_count": null,
      "outputs": [
        {
          "output_type": "execute_result",
          "data": {
            "text/plain": [
              "30000"
            ]
          },
          "metadata": {},
          "execution_count": 1
        }
      ]
    },
    {
      "cell_type": "markdown",
      "source": [
        "2. Given the tuple account = ('Asha', 'Savings', 56000, 'KCH'), unpack the values into separate variables and print a formatted string: 'Asha has ₹56000 in her Savings account (Branch: KCH)'."
      ],
      "metadata": {
        "id": "wwSE2tyCX0nz"
      }
    },
    {
      "cell_type": "code",
      "source": [
        "a1=('Asha', 'Savings', 56000, 'KCH')\n",
        "name, acct_type, balance, branch = a1\n",
        "a2= f\"{name} has ₹{balance} in her {acct_type} account (Branch: {branch})\"\n",
        "a2"
      ],
      "metadata": {
        "colab": {
          "base_uri": "https://localhost:8080/",
          "height": 35
        },
        "id": "7QuYXgvFX7E0",
        "outputId": "241982ca-323a-410d-a447-76956d299d8f"
      },
      "execution_count": null,
      "outputs": [
        {
          "output_type": "execute_result",
          "data": {
            "text/plain": [
              "'Asha has ₹56000 in her Savings account (Branch: KCH)'"
            ],
            "application/vnd.google.colaboratory.intrinsic+json": {
              "type": "string"
            }
          },
          "metadata": {},
          "execution_count": 2
        }
      ]
    },
    {
      "cell_type": "markdown",
      "source": [
        "3.Convert the list of string numbers ['45000', '56000', '38000'] to integers and find their average balance."
      ],
      "metadata": {
        "id": "HrTohZKjYFQX"
      }
    },
    {
      "cell_type": "code",
      "source": [
        "n1=['45000', '56000', '38000']\n",
        "n2=list(map(int,n1))\n",
        "n3=sum(n2)/len(n2)\n",
        "print(f\"The average balance is: {n3:.2f}\")"
      ],
      "metadata": {
        "colab": {
          "base_uri": "https://localhost:8080/"
        },
        "id": "Ret5_ddJYKNU",
        "outputId": "c1952c01-54bb-4da9-dd9c-1e88790f2451"
      },
      "execution_count": null,
      "outputs": [
        {
          "output_type": "stream",
          "name": "stdout",
          "text": [
            "The average balance is: 46333.33\n"
          ]
        }
      ]
    },
    {
      "cell_type": "markdown",
      "source": [
        "4.Create a list with elements: ['Kochi', 'Chennai', 'Mumbai', 'Delhi', 'Pune']. Replace 'Delhi' with 'Hyderabad' and print the new list in reverse order using slicing."
      ],
      "metadata": {
        "id": "svsZiBopYcJ1"
      }
    },
    {
      "cell_type": "code",
      "source": [
        "p1 = ['Kochi', 'Chennai', 'Mumbai', 'Delhi', 'Pune']\n",
        "p1 [p1.index('Delhi')] = 'Hyderabad'\n",
        "reverse_place = p1[::-1]\n",
        "reverse_place"
      ],
      "metadata": {
        "colab": {
          "base_uri": "https://localhost:8080/"
        },
        "id": "gN7wQA3HYgkO",
        "outputId": "1b6272f9-13cf-4d2e-f0e3-2a8afaa7ee06"
      },
      "execution_count": null,
      "outputs": [
        {
          "output_type": "execute_result",
          "data": {
            "text/plain": [
              "['Pune', 'Hyderabad', 'Mumbai', 'Chennai', 'Kochi']"
            ]
          },
          "metadata": {},
          "execution_count": 5
        }
      ]
    },
    {
      "cell_type": "markdown",
      "source": [
        "5.You have two tuples: interest_2024 = (7.1, 7.3, 7.2) and interest_2025 = (7.4, 7.5). Combine them and print the average of all interest rates."
      ],
      "metadata": {
        "id": "3XSXdJxrYp4-"
      }
    },
    {
      "cell_type": "code",
      "source": [
        "int_2024 = (7.1, 7.3, 7.2)\n",
        "int_2025 = (7.4, 7.5)\n",
        "total_int=int_2024+int_2025\n",
        "avg_int = sum(total_int) / len(total_int)\n",
        "print(f\"The average interest rate is {avg_int:.2f}%\")"
      ],
      "metadata": {
        "colab": {
          "base_uri": "https://localhost:8080/"
        },
        "id": "8cST0bIfY5T8",
        "outputId": "6abf6be5-1545-4f0a-a955-19aea8708db1"
      },
      "execution_count": null,
      "outputs": [
        {
          "output_type": "stream",
          "name": "stdout",
          "text": [
            "The average interest rate is 7.30%\n"
          ]
        }
      ]
    },
    {
      "cell_type": "markdown",
      "source": [
        "6.A string variable branch_id = 'TVM-FIN-2025'. Extract the branch code (first three letters) and the year (last four digits)"
      ],
      "metadata": {
        "id": "gQKPkvrJZUrI"
      }
    },
    {
      "cell_type": "code",
      "source": [
        "br_id = 'TVM-FIN-2025'\n",
        "b_code = br_id[:3]\n",
        "year = br_id[-4:]\n",
        "print(f\"Branch Code: {b_code}\")\n",
        "print(f\"Year: {year}\")\n"
      ],
      "metadata": {
        "colab": {
          "base_uri": "https://localhost:8080/"
        },
        "id": "DJJ6EGBiZZqr",
        "outputId": "caf263c0-55e1-4f41-cc48-d4ff145961f0"
      },
      "execution_count": null,
      "outputs": [
        {
          "output_type": "stream",
          "name": "stdout",
          "text": [
            "Branch Code: TVM\n",
            "Year: 2025\n"
          ]
        }
      ]
    },
    {
      "cell_type": "markdown",
      "source": [
        "7.Create a list transactions = [10000, -2000, 5000, -1500, 3000]. Without using loops, find total deposits and withdrawals using list slicing or indexing only."
      ],
      "metadata": {
        "id": "nq4fR3InaOaB"
      }
    },
    {
      "cell_type": "code",
      "source": [
        "t = [10000, -2000, 5000, -1500, 3000]\n",
        "\n",
        "t_deposit = sum(t[0:1]) + sum(t[2:3]) + sum(t[4:5])\n",
        "t_withdrawal = sum(t[1:2]) + sum(t[3:4])\n",
        "print(f\"Total deposit: {abs(t_deposit)}\")\n",
        "print(f\"Total Withdrawals: {abs(t_withdrawal)}\")"
      ],
      "metadata": {
        "colab": {
          "base_uri": "https://localhost:8080/"
        },
        "id": "4vPDkL2oaTD7",
        "outputId": "9453776d-ed2f-4a11-fbf0-22b417ceb237"
      },
      "execution_count": null,
      "outputs": [
        {
          "output_type": "stream",
          "name": "stdout",
          "text": [
            "Total deposit: 18000\n",
            "Total Withdrawals: 3500\n"
          ]
        }
      ]
    },
    {
      "cell_type": "markdown",
      "source": [
        "8.Given name = 'John Doe' and balance = 72500, print a message in title case stating 'John Doe has a balance of ₹72500'. Ensure no type errors occur."
      ],
      "metadata": {
        "id": "gztmul29aZvw"
      }
    },
    {
      "cell_type": "code",
      "source": [
        "name='john Doe'\n",
        "balance=72500\n",
        "message=f\"{name.title()} has a balance of ₹{balance}\"\n",
        "message"
      ],
      "metadata": {
        "colab": {
          "base_uri": "https://localhost:8080/",
          "height": 35
        },
        "id": "F9KJWAMtaeKV",
        "outputId": "08c41fd6-ded9-405f-998b-484b9595ad4a"
      },
      "execution_count": null,
      "outputs": [
        {
          "output_type": "execute_result",
          "data": {
            "text/plain": [
              "'John Doe has a balance of ₹72500'"
            ],
            "application/vnd.google.colaboratory.intrinsic+json": {
              "type": "string"
            }
          },
          "metadata": {},
          "execution_count": 10
        }
      ]
    },
    {
      "cell_type": "markdown",
      "source": [
        "9.A tuple customer = ('Kiran', 'Loan', 80000, 7.5). Calculate and print the total amount payable after 1 year if interest is simple interest based on rate 7.5%."
      ],
      "metadata": {
        "id": "wWIn5OdabI2x"
      }
    },
    {
      "cell_type": "code",
      "source": [
        "customer= ('Kiran', 'Loan', 80000, 7.5)\n",
        "name, loan, principle, rate = customer\n",
        "int = (principle * rate * 1) / 100\n",
        "total_payable = principle+ int\n",
        "print(f\"Total amount payable after 1 year for {name} is ₹{total_payable:.2f}\")\n"
      ],
      "metadata": {
        "colab": {
          "base_uri": "https://localhost:8080/"
        },
        "id": "x0Duu6zZbM6H",
        "outputId": "81ad6705-af6c-4bca-e16f-12924917c949"
      },
      "execution_count": null,
      "outputs": [
        {
          "output_type": "stream",
          "name": "stdout",
          "text": [
            "Total amount payable after 1 year for Kiran is ₹86000.00\n"
          ]
        }
      ]
    },
    {
      "cell_type": "markdown",
      "source": [
        "10.Create two lists – branches = ['Kochi', 'Chennai', 'Mumbai'] and profits = [120000, 95000, 134000]. Form a new list of tuples pairing each branch with its profit."
      ],
      "metadata": {
        "id": "Y3JlhAV0bQ84"
      }
    },
    {
      "cell_type": "code",
      "source": [
        "l10 = ['Kochi', 'Chennai', 'Mumbai']\n",
        "l11 = [120000, 95000, 134000]\n",
        "l12= [(l10[0], l11[0]),(l10[1], l11[1]),(l10[2], l11[2])]\n",
        "l12\n"
      ],
      "metadata": {
        "colab": {
          "base_uri": "https://localhost:8080/"
        },
        "id": "BKYfHFpebU8O",
        "outputId": "4680d727-0d4a-479c-dd0a-a29e0451ed11"
      },
      "execution_count": null,
      "outputs": [
        {
          "output_type": "execute_result",
          "data": {
            "text/plain": [
              "[('Kochi', 120000), ('Chennai', 95000), ('Mumbai', 134000)]"
            ]
          },
          "metadata": {},
          "execution_count": 15
        }
      ]
    },
    {
      "cell_type": "markdown",
      "source": [
        "11. From a list salaries = [45000, 56000, 38000, 62000, 54000], extract the top three\n",
        "salaries using slicing only."
      ],
      "metadata": {
        "id": "-ZAW1kGyb8eY"
      }
    },
    {
      "cell_type": "code",
      "source": [
        "s1 = [45000, 56000, 38000, 62000, 54000]\n",
        "s1.sort(reverse=True)\n",
        "s1[:3]"
      ],
      "metadata": {
        "colab": {
          "base_uri": "https://localhost:8080/"
        },
        "id": "UHT_DQXncotW",
        "outputId": "24b29777-0060-4c44-b14e-9ab3ceb91ea5"
      },
      "execution_count": null,
      "outputs": [
        {
          "output_type": "execute_result",
          "data": {
            "text/plain": [
              "[62000, 56000, 54000]"
            ]
          },
          "metadata": {},
          "execution_count": 17
        }
      ]
    },
    {
      "cell_type": "markdown",
      "source": [
        "12. Given the tuple exchange_rates = (83.2, 83.1, 83.5, 83.0, 82.9), convert it into a list\n",
        "and change the third value to 84.0."
      ],
      "metadata": {
        "id": "J3vWllaFdNjX"
      }
    },
    {
      "cell_type": "code",
      "source": [
        "er=(83.2, 83.1, 83.5, 83.0, 82.9)\n",
        "r1=list(er)\n",
        "r1[2]=84.0\n",
        "r1"
      ],
      "metadata": {
        "colab": {
          "base_uri": "https://localhost:8080/"
        },
        "id": "7Bl3nPsRdvog",
        "outputId": "baa29f81-1d4f-4ed6-fefb-6cb2731afb96"
      },
      "execution_count": null,
      "outputs": [
        {
          "output_type": "execute_result",
          "data": {
            "text/plain": [
              "[83.2, 83.1, 84.0, 83.0, 82.9]"
            ]
          },
          "metadata": {},
          "execution_count": 18
        }
      ]
    },
    {
      "cell_type": "markdown",
      "source": [
        "13.Combine two lists customer_names = ['Asha', 'John', 'Meera'] and balances = [56000,\n",
        "72000, 65000] into a formatted string such as 'Asha:56000, John:72000, Meera:65000'\n",
        "without loops."
      ],
      "metadata": {
        "id": "33ArQoDyeZeU"
      }
    },
    {
      "cell_type": "code",
      "source": [
        "c = ['Asha', 'John', 'Meera']\n",
        "b = [56000, 72000, 65000]\n",
        "print(f\"{c[0]}:{b[0]}, {c[1]}:{b[1]}, {c[2]}:{b[2]}\")"
      ],
      "metadata": {
        "colab": {
          "base_uri": "https://localhost:8080/"
        },
        "id": "NB40wwqbehx-",
        "outputId": "1ad93fbd-bcd9-4fd3-c2fd-15c2239e970d"
      },
      "execution_count": null,
      "outputs": [
        {
          "output_type": "stream",
          "name": "stdout",
          "text": [
            "Asha:56000, John:72000, Meera:65000\n"
          ]
        }
      ]
    },
    {
      "cell_type": "markdown",
      "source": [
        "14. Given account_info = (Deepa, 'Savings', 98000), use string formatting to print a\n",
        "sentence 'Account Holder Deepz has ₹98000 in Savings account'."
      ],
      "metadata": {
        "id": "UgN0JcSUfzdL"
      }
    },
    {
      "cell_type": "code",
      "source": [
        "a1= ('Deepa', 'Savings', 98000)\n",
        "print(f\"Account Holder {a1[0]} has ₹{a1[2]} in {a1[1]} account\")\n"
      ],
      "metadata": {
        "colab": {
          "base_uri": "https://localhost:8080/"
        },
        "id": "7c5NjMywf39Y",
        "outputId": "410a523a-3c03-4c1e-8c9f-fb5e9b91e746"
      },
      "execution_count": null,
      "outputs": [
        {
          "output_type": "stream",
          "name": "stdout",
          "text": [
            "Account Holder Deepa has ₹98000 in Savings account\n"
          ]
        }
      ]
    },
    {
      "cell_type": "markdown",
      "source": [
        "15.Create a nested list storing branch names and their monthly collections: [['Kochi',\n",
        "[120000, 135000]], ['Chennai', [95000, 110000]]]. Print only the collection of Chennai\n",
        "branch without using loops."
      ],
      "metadata": {
        "id": "RucNsn64i4Ub"
      }
    },
    {
      "cell_type": "code",
      "source": [
        "branches = [['Kochi', [120000, 135000]], ['Chennai', [95000, 110000]]]\n",
        "chennai_col = branches[1][1]\n",
        "print(f'The chennai monthly collection is {chennai_col}')"
      ],
      "metadata": {
        "colab": {
          "base_uri": "https://localhost:8080/"
        },
        "id": "sGzgYzy8i7sL",
        "outputId": "d5744268-66cb-4524-cabc-05be52bf3ac0"
      },
      "execution_count": null,
      "outputs": [
        {
          "output_type": "stream",
          "name": "stdout",
          "text": [
            "The chennai monthly collection is [95000, 110000]\n"
          ]
        }
      ]
    }
  ]
}