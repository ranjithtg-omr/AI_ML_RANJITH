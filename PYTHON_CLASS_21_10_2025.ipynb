{
  "nbformat": 4,
  "nbformat_minor": 0,
  "metadata": {
    "colab": {
      "provenance": [],
      "authorship_tag": "ABX9TyMOmY4SjxKL/7rOO8VVhN0Z",
      "include_colab_link": true
    },
    "kernelspec": {
      "name": "python3",
      "display_name": "Python 3"
    },
    "language_info": {
      "name": "python"
    }
  },
  "cells": [
    {
      "cell_type": "markdown",
      "metadata": {
        "id": "view-in-github",
        "colab_type": "text"
      },
      "source": [
        "<a href=\"https://colab.research.google.com/github/ranjithtg-omr/AI_ML_RANJITH/blob/PYTHON_CLASS_21_10_2025/PYTHON_CLASS_21_10_2025.ipynb\" target=\"_parent\"><img src=\"https://colab.research.google.com/assets/colab-badge.svg\" alt=\"Open In Colab\"/></a>"
      ]
    },
    {
      "cell_type": "code",
      "execution_count": null,
      "metadata": {
        "id": "s3GzkPIvNF7J"
      },
      "outputs": [],
      "source": [
        "My First Notebook"
      ]
    },
    {
      "cell_type": "code",
      "source": [
        "print(\"Hello world\")"
      ],
      "metadata": {
        "colab": {
          "base_uri": "https://localhost:8080/"
        },
        "id": "LVp2T8ffNTrK",
        "outputId": "c3913044-307b-4358-bd03-fe16d6c95334"
      },
      "execution_count": null,
      "outputs": [
        {
          "output_type": "stream",
          "name": "stdout",
          "text": [
            "Hello world\n"
          ]
        }
      ]
    },
    {
      "cell_type": "code",
      "source": [
        "print(233)\n",
        "print(4.9)"
      ],
      "metadata": {
        "colab": {
          "base_uri": "https://localhost:8080/"
        },
        "id": "xIoDCWKSNlAT",
        "outputId": "ecdd7e57-de68-44dd-f7d7-602b50e7eb01"
      },
      "execution_count": null,
      "outputs": [
        {
          "output_type": "stream",
          "name": "stdout",
          "text": [
            "233\n",
            "4.9\n"
          ]
        }
      ]
    },
    {
      "cell_type": "code",
      "source": [
        "print(\"welcome to\",end=\" \")\n",
        "print(\"the world of python\",end='!')\n",
        "print(\"\\\"welcome to the world or python\\\"\")"
      ],
      "metadata": {
        "colab": {
          "base_uri": "https://localhost:8080/"
        },
        "id": "zmuT1nsjN3zN",
        "outputId": "7b9e0bcf-037a-4142-e164-f4cdc8b6bfc8"
      },
      "execution_count": null,
      "outputs": [
        {
          "output_type": "stream",
          "name": "stdout",
          "text": [
            "welcome to the world of python!\"welcome to the world or python\"\n"
          ]
        }
      ]
    },
    {
      "cell_type": "code",
      "source": [
        "age=13\n",
        "print(age)\n"
      ],
      "metadata": {
        "colab": {
          "base_uri": "https://localhost:8080/"
        },
        "id": "rAdQNFX7PHW8",
        "outputId": "8938287c-c970-4184-e3b1-af43a23a8d5b"
      },
      "execution_count": null,
      "outputs": [
        {
          "output_type": "stream",
          "name": "stdout",
          "text": [
            "13\n"
          ]
        }
      ]
    },
    {
      "cell_type": "code",
      "source": [
        ">>> Item_name = \"Computer\"\n",
        ">>> Item_qty = 10\n",
        ">>> Item_value = 1000.23\n",
        ">>> print(item_name)\n",
        "Computer\n",
        ">>> print(Item_qty)\n",
        "10\n",
        ">>> print(Item_value)\n",
        "1000.23\n",
        ">>>"
      ],
      "metadata": {
        "colab": {
          "base_uri": "https://localhost:8080/",
          "height": 214
        },
        "id": "UZkNdvB1PTOA",
        "outputId": "751e8e1b-5de2-4216-9c5b-8babd04ec705"
      },
      "execution_count": null,
      "outputs": [
        {
          "output_type": "error",
          "ename": "NameError",
          "evalue": "name 'item_name' is not defined",
          "traceback": [
            "\u001b[0;31m---------------------------------------------------------------------------\u001b[0m",
            "\u001b[0;31mNameError\u001b[0m                                 Traceback (most recent call last)",
            "\u001b[0;32m/tmp/ipython-input-203272039.py\u001b[0m in \u001b[0;36m<cell line: 0>\u001b[0;34m()\u001b[0m\n\u001b[1;32m      2\u001b[0m \u001b[0mItem_qty\u001b[0m \u001b[0;34m=\u001b[0m \u001b[0;36m10\u001b[0m\u001b[0;34m\u001b[0m\u001b[0;34m\u001b[0m\u001b[0m\n\u001b[1;32m      3\u001b[0m \u001b[0mItem_value\u001b[0m \u001b[0;34m=\u001b[0m \u001b[0;36m1000.23\u001b[0m\u001b[0;34m\u001b[0m\u001b[0;34m\u001b[0m\u001b[0m\n\u001b[0;32m----> 4\u001b[0;31m \u001b[0mprint\u001b[0m\u001b[0;34m(\u001b[0m\u001b[0mitem_name\u001b[0m\u001b[0;34m)\u001b[0m\u001b[0;34m\u001b[0m\u001b[0;34m\u001b[0m\u001b[0m\n\u001b[0m\u001b[1;32m      5\u001b[0m \u001b[0mComputer\u001b[0m\u001b[0;34m\u001b[0m\u001b[0;34m\u001b[0m\u001b[0m\n\u001b[1;32m      6\u001b[0m \u001b[0mprint\u001b[0m\u001b[0;34m(\u001b[0m\u001b[0mItem_qty\u001b[0m\u001b[0;34m)\u001b[0m\u001b[0;34m\u001b[0m\u001b[0;34m\u001b[0m\u001b[0m\n",
            "\u001b[0;31mNameError\u001b[0m: name 'item_name' is not defined"
          ]
        }
      ]
    },
    {
      "cell_type": "code",
      "source": [
        "x,y,z=10,44.67,6+8j\n",
        "print(x,type(x))\n",
        "print(y,type(y))\n",
        "print(z,type(z))\n"
      ],
      "metadata": {
        "colab": {
          "base_uri": "https://localhost:8080/"
        },
        "id": "upOJ8EWkRnPq",
        "outputId": "3a5b5c6c-c2ff-4931-869c-959c60dd8634"
      },
      "execution_count": null,
      "outputs": [
        {
          "output_type": "stream",
          "name": "stdout",
          "text": [
            "10 <class 'int'>\n",
            "44.67 <class 'float'>\n",
            "(6+8j) <class 'complex'>\n"
          ]
        }
      ]
    },
    {
      "cell_type": "code",
      "source": [
        "num1=input(\"Enter a number\")\n",
        "print(num1,type(num1))\n"
      ],
      "metadata": {
        "colab": {
          "base_uri": "https://localhost:8080/"
        },
        "id": "9MsitKtrSk-x",
        "outputId": "f98784d6-9d31-441f-fd3b-da7f1f371075"
      },
      "execution_count": null,
      "outputs": [
        {
          "output_type": "stream",
          "name": "stdout",
          "text": [
            "Enter a number25\n",
            "25 <class 'str'>\n"
          ]
        }
      ]
    },
    {
      "cell_type": "code",
      "source": [
        "num1=int(input(\"Enter a number\"))\n",
        "print(num1,type(num1))"
      ],
      "metadata": {
        "colab": {
          "base_uri": "https://localhost:8080/"
        },
        "id": "mqVLoH3VTMnv",
        "outputId": "33ef8425-cec5-42cb-e26c-50be0bf06cb4"
      },
      "execution_count": null,
      "outputs": [
        {
          "output_type": "stream",
          "name": "stdout",
          "text": [
            "Enter a number50\n",
            "50 <class 'int'>\n"
          ]
        }
      ]
    },
    {
      "cell_type": "code",
      "source": [
        "greeting=\"Hello world.\"\n",
        "print(greeting+\"iam learning python.\")"
      ],
      "metadata": {
        "colab": {
          "base_uri": "https://localhost:8080/"
        },
        "id": "v9EnK_EVT2vV",
        "outputId": "8e99e7c4-50fd-4690-e3c7-559e0f9c2466"
      },
      "execution_count": null,
      "outputs": [
        {
          "output_type": "stream",
          "name": "stdout",
          "text": [
            "Hello world.iam learning python.\n"
          ]
        }
      ]
    },
    {
      "cell_type": "code",
      "source": [
        "greeting=\"Hello world.\"\n"
      ],
      "metadata": {
        "id": "DaeLbqteUJ26"
      },
      "execution_count": null,
      "outputs": []
    },
    {
      "cell_type": "code",
      "source": [
        "print(\"python\"*3)\n",
        "print(\"python\\n\"*3)"
      ],
      "metadata": {
        "colab": {
          "base_uri": "https://localhost:8080/"
        },
        "id": "YQ1DfuiGUeLC",
        "outputId": "32af808f-d4dc-411a-fce8-f3ea653c0521"
      },
      "execution_count": null,
      "outputs": [
        {
          "output_type": "stream",
          "name": "stdout",
          "text": [
            "pythonpythonpython\n",
            "python\n",
            "python\n",
            "python\n",
            "\n"
          ]
        }
      ]
    },
    {
      "cell_type": "code",
      "source": [
        "forename=input(\"What is your forename?\")\n",
        "print(\"Hello\",forename)"
      ],
      "metadata": {
        "colab": {
          "base_uri": "https://localhost:8080/"
        },
        "id": "Q01cwKP2VDRT",
        "outputId": "d14dcb7f-cb5a-4be6-e6d2-63d5c4b5fad5"
      },
      "execution_count": null,
      "outputs": [
        {
          "output_type": "stream",
          "name": "stdout",
          "text": [
            "What is your forename?RANJITH\n",
            "Hello RANJITH\n"
          ]
        }
      ]
    },
    {
      "cell_type": "code",
      "source": [
        "forename=input(\"What is your forename?\")\n",
        "surname=input(\"What is your surname?\")\n",
        "print(\"Hello\",forename,surname)\n"
      ],
      "metadata": {
        "colab": {
          "base_uri": "https://localhost:8080/"
        },
        "id": "3QiuDtQYV11W",
        "outputId": "2dc3951f-f920-4a51-b62d-68d4792295ed"
      },
      "execution_count": null,
      "outputs": [
        {
          "output_type": "stream",
          "name": "stdout",
          "text": [
            "What is your forename?RANJITH\n",
            "What is your surname?TG\n",
            "Hello RANJITH TG\n"
          ]
        }
      ]
    },
    {
      "cell_type": "code",
      "source": [
        "s=\"python\"\n",
        "print(s[0])\n",
        "print(s[-3])\n",
        "print(s[1])\n",
        "print(len(s))"
      ],
      "metadata": {
        "colab": {
          "base_uri": "https://localhost:8080/"
        },
        "id": "un4ANulrWZPt",
        "outputId": "4835e98c-48c4-4b5b-fea3-2dff4cf178b2"
      },
      "execution_count": null,
      "outputs": [
        {
          "output_type": "stream",
          "name": "stdout",
          "text": [
            "p\n",
            "h\n",
            "y\n",
            "6\n"
          ]
        }
      ]
    },
    {
      "cell_type": "code",
      "source": [
        "s=\"python\"\n",
        "print(s[0:4])"
      ],
      "metadata": {
        "colab": {
          "base_uri": "https://localhost:8080/"
        },
        "id": "SE05S8JlXGqz",
        "outputId": "db5beb42-37f6-4f31-800b-defb4f972a50"
      },
      "execution_count": null,
      "outputs": [
        {
          "output_type": "stream",
          "name": "stdout",
          "text": [
            "pyth\n"
          ]
        }
      ]
    },
    {
      "cell_type": "code",
      "source": [
        "s=\"python\"\n",
        "print(s[:4])"
      ],
      "metadata": {
        "colab": {
          "base_uri": "https://localhost:8080/"
        },
        "id": "LpmdCeTIYPIF",
        "outputId": "6faedce4-cbac-4312-8c27-f80bf8bea868"
      },
      "execution_count": null,
      "outputs": [
        {
          "output_type": "stream",
          "name": "stdout",
          "text": [
            "pyth\n"
          ]
        }
      ]
    },
    {
      "cell_type": "code",
      "source": [
        "s=\"python\"\n",
        "print(s[4:])"
      ],
      "metadata": {
        "colab": {
          "base_uri": "https://localhost:8080/"
        },
        "id": "q0NuvfzNYW_-",
        "outputId": "2851d5ee-e776-4f45-e209-3ed66986e861"
      },
      "execution_count": null,
      "outputs": [
        {
          "output_type": "stream",
          "name": "stdout",
          "text": [
            "on\n"
          ]
        }
      ]
    },
    {
      "cell_type": "code",
      "source": [
        "s=\"python\"\n",
        "print(s[0:6:2])\n"
      ],
      "metadata": {
        "colab": {
          "base_uri": "https://localhost:8080/"
        },
        "id": "7VKDwQIsYdsF",
        "outputId": "1bdf70c5-d2dc-46bf-d181-fac03ba64d22"
      },
      "execution_count": null,
      "outputs": [
        {
          "output_type": "stream",
          "name": "stdout",
          "text": [
            "pto\n"
          ]
        }
      ]
    },
    {
      "cell_type": "code",
      "source": [
        "s=\"python\"\n",
        "print(s[::])"
      ],
      "metadata": {
        "colab": {
          "base_uri": "https://localhost:8080/"
        },
        "id": "fSXRL-piYnCD",
        "outputId": "48c68cb8-50ee-45e9-b41a-7703f1b4e757"
      },
      "execution_count": null,
      "outputs": [
        {
          "output_type": "stream",
          "name": "stdout",
          "text": [
            "python\n"
          ]
        }
      ]
    },
    {
      "cell_type": "code",
      "source": [
        "s=\"python\"\n",
        "s.islower()"
      ],
      "metadata": {
        "colab": {
          "base_uri": "https://localhost:8080/"
        },
        "id": "lLPHigc4Y1E3",
        "outputId": "c32fb2c5-dedd-4757-9505-1104b8e0a631"
      },
      "execution_count": null,
      "outputs": [
        {
          "output_type": "execute_result",
          "data": {
            "text/plain": [
              "True"
            ]
          },
          "metadata": {},
          "execution_count": 30
        }
      ]
    },
    {
      "cell_type": "code",
      "source": [
        "s=\"python\"\n",
        "print(s[::-1])"
      ],
      "metadata": {
        "colab": {
          "base_uri": "https://localhost:8080/"
        },
        "id": "6NQfS3ysZ6_r",
        "outputId": "a1d4474d-a16e-4d2f-9417-f9e8b20cb6ef"
      },
      "execution_count": null,
      "outputs": [
        {
          "output_type": "stream",
          "name": "stdout",
          "text": [
            "nohtyp\n"
          ]
        }
      ]
    },
    {
      "cell_type": "code",
      "source": [
        "s.upper()\n"
      ],
      "metadata": {
        "colab": {
          "base_uri": "https://localhost:8080/",
          "height": 35
        },
        "id": "O1qB0A6AaWNB",
        "outputId": "323433f8-2db5-4cdb-b211-b97744082f38"
      },
      "execution_count": null,
      "outputs": [
        {
          "output_type": "execute_result",
          "data": {
            "text/plain": [
              "'PYTHON'"
            ],
            "application/vnd.google.colaboratory.intrinsic+json": {
              "type": "string"
            }
          },
          "metadata": {},
          "execution_count": 31
        }
      ]
    },
    {
      "cell_type": "code",
      "source": [
        "float(\"4.5\")\n",
        "int(\"25\")\n",
        "int(5.625)\n",
        "float(6)\n",
        "int(True)\n",
        "float(False)\n",
        "str(True)"
      ],
      "metadata": {
        "colab": {
          "base_uri": "https://localhost:8080/",
          "height": 35
        },
        "id": "FLCchO27aiho",
        "outputId": "2aeb9503-c3f2-4ad9-b51c-af9e676a4e6f"
      },
      "execution_count": null,
      "outputs": [
        {
          "output_type": "execute_result",
          "data": {
            "text/plain": [
              "'True'"
            ],
            "application/vnd.google.colaboratory.intrinsic+json": {
              "type": "string"
            }
          },
          "metadata": {},
          "execution_count": 33
        }
      ]
    },
    {
      "cell_type": "code",
      "source": [
        "float(\"4.5\")\n",
        "int(\"25\")\n",
        "int(5.625)\n",
        "float(6)\n",
        "int(True)\n",
        "float(False)\n",
        "str(True)\n",
        "bool(0)\n",
        "bool(\"Hello World\")"
      ],
      "metadata": {
        "colab": {
          "base_uri": "https://localhost:8080/"
        },
        "id": "2_dJVhLrbDn-",
        "outputId": "dd49cd9a-8b71-4a0f-bd15-f353291c6057"
      },
      "execution_count": null,
      "outputs": [
        {
          "output_type": "execute_result",
          "data": {
            "text/plain": [
              "True"
            ]
          },
          "metadata": {},
          "execution_count": 34
        }
      ]
    },
    {
      "cell_type": "code",
      "source": [
        "num1=20\n",
        "num2=3\n",
        "print(num1+num2)\n",
        "print(num1-num2)\n",
        "print(num1*num2)\n",
        "print(num1/num2)\n",
        "print(num1%num2)\n",
        "print(num1**num2)\n",
        "print(num1//num2)"
      ],
      "metadata": {
        "colab": {
          "base_uri": "https://localhost:8080/"
        },
        "id": "P9RmnbwpbqdC",
        "outputId": "52f6ce53-8d7e-46fa-a0ff-5124fb4493b4"
      },
      "execution_count": null,
      "outputs": [
        {
          "output_type": "stream",
          "name": "stdout",
          "text": [
            "23\n",
            "17\n",
            "60\n",
            "6.666666666666667\n",
            "2\n",
            "8000\n",
            "6\n"
          ]
        }
      ]
    },
    {
      "cell_type": "code",
      "source": [
        "3>5"
      ],
      "metadata": {
        "colab": {
          "base_uri": "https://localhost:8080/"
        },
        "id": "owIGxvwzcQse",
        "outputId": "5aaabf6c-a958-45ad-d6d9-698502174f19"
      },
      "execution_count": null,
      "outputs": [
        {
          "output_type": "execute_result",
          "data": {
            "text/plain": [
              "False"
            ]
          },
          "metadata": {},
          "execution_count": 36
        }
      ]
    },
    {
      "cell_type": "code",
      "source": [
        "3>3\n"
      ],
      "metadata": {
        "colab": {
          "base_uri": "https://localhost:8080/"
        },
        "id": "Jg64YL_WcYaU",
        "outputId": "357cdd7f-37b6-47ae-c27b-1c64b7613d0a"
      },
      "execution_count": null,
      "outputs": [
        {
          "output_type": "execute_result",
          "data": {
            "text/plain": [
              "False"
            ]
          },
          "metadata": {},
          "execution_count": 37
        }
      ]
    },
    {
      "cell_type": "code",
      "source": [
        "3<2"
      ],
      "metadata": {
        "colab": {
          "base_uri": "https://localhost:8080/"
        },
        "id": "3s6GzX6Mcakm",
        "outputId": "3029a7b5-20c1-4cc6-bae7-5b03f14ac94f"
      },
      "execution_count": null,
      "outputs": [
        {
          "output_type": "execute_result",
          "data": {
            "text/plain": [
              "False"
            ]
          },
          "metadata": {},
          "execution_count": 39
        }
      ]
    },
    {
      "cell_type": "code",
      "source": [
        "(3>5) or (3==3)"
      ],
      "metadata": {
        "colab": {
          "base_uri": "https://localhost:8080/"
        },
        "id": "CT9Da7qFciWn",
        "outputId": "e7085941-320c-4266-9561-5f002f11a2b0"
      },
      "execution_count": null,
      "outputs": [
        {
          "output_type": "execute_result",
          "data": {
            "text/plain": [
              "True"
            ]
          },
          "metadata": {},
          "execution_count": 41
        }
      ]
    },
    {
      "cell_type": "code",
      "source": [
        "not(3>5)"
      ],
      "metadata": {
        "colab": {
          "base_uri": "https://localhost:8080/"
        },
        "id": "kZn2IMEdc2n0",
        "outputId": "3c7ecee6-2328-475e-9989-236754a90254"
      },
      "execution_count": null,
      "outputs": [
        {
          "output_type": "execute_result",
          "data": {
            "text/plain": [
              "True"
            ]
          },
          "metadata": {},
          "execution_count": 42
        }
      ]
    },
    {
      "cell_type": "code",
      "source": [
        "a=10\n",
        "a+=5 #a=a+5\n",
        "print(a)\n",
        "\n"
      ],
      "metadata": {
        "colab": {
          "base_uri": "https://localhost:8080/"
        },
        "id": "dveK9RjddSTk",
        "outputId": "a46d08a1-5d58-48fd-a097-6a6b46a032b0"
      },
      "execution_count": null,
      "outputs": [
        {
          "output_type": "stream",
          "name": "stdout",
          "text": [
            "15\n"
          ]
        }
      ]
    },
    {
      "cell_type": "code",
      "source": [
        "#program to find area of a rectangle\n",
        "\n",
        "length=10\n",
        "breadth=20\n",
        "area=(length*breadth)\n",
        "print(f\"The area of rectangle is {area}\")\n"
      ],
      "metadata": {
        "colab": {
          "base_uri": "https://localhost:8080/"
        },
        "id": "16HFk6xAd5He",
        "outputId": "1ead5ab5-6051-4774-c05a-e6cdf78f23a0"
      },
      "execution_count": null,
      "outputs": [
        {
          "output_type": "stream",
          "name": "stdout",
          "text": [
            "The area of rectangle is 200\n"
          ]
        }
      ]
    },
    {
      "cell_type": "code",
      "source": [
        "# Read radius odf circle form user and print area of circle\n",
        "radius=float(input(\"Enter radius\"))\n",
        "print(f\"Area of circle is {3.14*radius**2}\")"
      ],
      "metadata": {
        "colab": {
          "base_uri": "https://localhost:8080/"
        },
        "id": "T8g4y4cceuKp",
        "outputId": "a97ac569-3cc8-4c30-b671-7b77a9a21679"
      },
      "execution_count": null,
      "outputs": [
        {
          "output_type": "stream",
          "name": "stdout",
          "text": [
            "Enter radius34\n",
            "Area of circle is 3629.84\n"
          ]
        }
      ]
    },
    {
      "cell_type": "code",
      "source": [
        "import math\n",
        "print(math.pi)\n"
      ],
      "metadata": {
        "colab": {
          "base_uri": "https://localhost:8080/"
        },
        "id": "KgMTihBKfjJr",
        "outputId": "109a15c2-6c15-43be-b935-d414e213b27d"
      },
      "execution_count": null,
      "outputs": [
        {
          "output_type": "stream",
          "name": "stdout",
          "text": [
            "3.141592653589793\n"
          ]
        }
      ]
    },
    {
      "cell_type": "code",
      "source": [
        "# Read radius odf circle form user and print area of circle\n",
        "from math import pi\n",
        "radius=float(input(\"Enter radius\"))\n",
        "print(f\"Area of circle is {3.14*radius**2}\")"
      ],
      "metadata": {
        "colab": {
          "base_uri": "https://localhost:8080/"
        },
        "id": "0fpdaJFafvqD",
        "outputId": "237e2dd0-60be-4601-d3ed-6d7cbb3abfbc"
      },
      "execution_count": null,
      "outputs": [
        {
          "output_type": "stream",
          "name": "stdout",
          "text": [
            "Enter radius10\n",
            "Area of circle is 314.0\n"
          ]
        }
      ]
    },
    {
      "cell_type": "code",
      "source": [
        "#convert to fahrenheit-> F =(C*9/5)+32\n",
        "\n",
        "celsius = int(input(\"enter celsius\"))\n",
        "print(f\"fahrenheit = {(celsius*9/5)+32}\")\n",
        "\n"
      ],
      "metadata": {
        "colab": {
          "base_uri": "https://localhost:8080/"
        },
        "id": "wTmJGWYcgp_a",
        "outputId": "4f278e62-2098-481b-a6da-79aa85b4c518"
      },
      "execution_count": null,
      "outputs": [
        {
          "output_type": "stream",
          "name": "stdout",
          "text": [
            "enter celsius100\n",
            "fahrenheit = 212.0\n"
          ]
        }
      ]
    },
    {
      "cell_type": "code",
      "source": [
        "# hello -----> Hello 123\n",
        "\n",
        "s=\"hello123\"\n",
        "d=s.capitalize()\n",
        "print(d[:5]+' '+d[5:])"
      ],
      "metadata": {
        "colab": {
          "base_uri": "https://localhost:8080/"
        },
        "id": "ULMskCeDhrC6",
        "outputId": "0a31023e-330d-4e79-822d-cfd322ba09f4"
      },
      "execution_count": null,
      "outputs": [
        {
          "output_type": "stream",
          "name": "stdout",
          "text": [
            "Hello 123\n"
          ]
        }
      ]
    },
    {
      "cell_type": "code",
      "source": [
        "#account_number = \"1234567890123456\"\n",
        "#output: xxxx-xxxx-xxxx-3456\n",
        "\n",
        "\n",
        "account_number =\"1234567890123456\"\n",
        "account_number=\"xxxx-xxxx-xxxx-\"+ account_number[-4:]\n",
        "print (account_number)"
      ],
      "metadata": {
        "colab": {
          "base_uri": "https://localhost:8080/"
        },
        "id": "NpBH5xa9ifE-",
        "outputId": "ddb0f5ae-f330-4c51-f7ab-95a8ba5b4423"
      },
      "execution_count": null,
      "outputs": [
        {
          "output_type": "stream",
          "name": "stdout",
          "text": [
            "xxxx-xxxx-xxxx-3456\n"
          ]
        }
      ]
    }
  ]
}